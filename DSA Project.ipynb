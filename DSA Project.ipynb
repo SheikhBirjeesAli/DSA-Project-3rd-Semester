{
 "cells": [
  {
   "cell_type": "code",
   "execution_count": 1,
   "metadata": {},
   "outputs": [],
   "source": [
    "# Resizeable Array Class Initialization\n",
    "class ResizeableArray:\n",
    "    def __init__(self):    #class constructor\n",
    "        self.n = 0         #this variable represent the Size/number of elements stored in the Array\n",
    "        self.capacity = 5  #it is the initialized storage capacity of the Array\n",
    "        self.A = [\"-\" for i in range(self.capacity)]  #Creating Array of storage capacity self.capacity by appending \"-\" which shows that the space is empty\n",
    "     \n",
    "    #function to get Array's length or Size of the Array\n",
    "    def len_array(self):\n",
    "        return self.n       #returns the size/No. of elements stored in the array\n",
    "    \n",
    "    #funtion to print the Array\n",
    "    def print_array(self):\n",
    "        if self.n!=0:                           #checking that Array is not empty\n",
    "            for i in range(self.n):             #iterate through the elements of Array\n",
    "                if i != \"-\":                    #Checking whether Array is ended or not \n",
    "                    print(self.A[i],end=(\" \"))  #printing ith element from the Array\n",
    "        else:\n",
    "            return \"Empty Array\"                #prints when the Array is empty\n",
    "\n",
    "    #function to get ith element from Array\n",
    "    def getitem(self, i):                      #variable 'i' is the index of the required element\n",
    "        if self.n==0:                          #checking that Array is empty or not\n",
    "            raise Exception(\"Empty Array!\")    #raise error when array is empty\n",
    "        if 0 <= i < self.n:                    #checking that the given index is greater than/equal to 0 and less than size of Array\n",
    "            return self.A[i]                   #returns the required ith element\n",
    "        else:\n",
    "            raise IndexError(\"Invalid index!\") #raise error when the index is not valid\n",
    "\n",
    "    #funtion to append element in the Array\n",
    "    def append(self, e):                  #parameter 'e' is the element to append\n",
    "        if self.n == self.capacity:       #checks that the Array is full by comparing Array's length to it's capacity\n",
    "            self.resize(10+self.capacity) #if Array is full than calls resize funtion to increase the size by 10\n",
    "        self.A[self.n] = e                #appending the element 'e'\n",
    "        self.n += 1                       #increasing/updating the size of Array\n",
    "\n",
    "    #funtion to increase the size of fully loaded Array\n",
    "    def resize(self, c):             #taking input 'c', the capacity by increasing Array's capacity\n",
    "        B = [\"-\" for i in range(c)]  #creating new Array of capacity 'c'\n",
    "        for k in range(self.n):      #iterate through all the elements stored in the previous(fully loaded) Array \n",
    "            B[k] = self.A[k]         #inserting previous Array's elements in the new one\n",
    "        self.A = B                   #replacing fully loaded Array by resized Array\n",
    "        self.capacity = c            #updating capacity of the Array"
   ]
  },
  {
   "cell_type": "code",
   "execution_count": 2,
   "metadata": {},
   "outputs": [],
   "source": [
    "obj = ResizeableArray()"
   ]
  },
  {
   "cell_type": "code",
   "execution_count": 3,
   "metadata": {},
   "outputs": [
    {
     "data": {
      "text/plain": [
       "0"
      ]
     },
     "execution_count": 3,
     "metadata": {},
     "output_type": "execute_result"
    }
   ],
   "source": [
    "obj.len_array()"
   ]
  },
  {
   "cell_type": "code",
   "execution_count": 4,
   "metadata": {},
   "outputs": [
    {
     "data": {
      "text/plain": [
       "'Empty Array'"
      ]
     },
     "execution_count": 4,
     "metadata": {},
     "output_type": "execute_result"
    }
   ],
   "source": [
    "obj.print_array()"
   ]
  },
  {
   "cell_type": "code",
   "execution_count": 10,
   "metadata": {},
   "outputs": [],
   "source": [
    "obj.append(1)\n",
    "obj.append(2)\n",
    "obj.append(3)\n",
    "obj.append(4)"
   ]
  },
  {
   "cell_type": "code",
   "execution_count": 11,
   "metadata": {},
   "outputs": [
    {
     "data": {
      "text/plain": [
       "4"
      ]
     },
     "execution_count": 11,
     "metadata": {},
     "output_type": "execute_result"
    }
   ],
   "source": [
    "obj.len_array()"
   ]
  },
  {
   "cell_type": "code",
   "execution_count": 13,
   "metadata": {},
   "outputs": [
    {
     "name": "stdout",
     "output_type": "stream",
     "text": [
      "1 2 3 4 "
     ]
    }
   ],
   "source": [
    "obj.print_array()"
   ]
  },
  {
   "cell_type": "code",
   "execution_count": 14,
   "metadata": {},
   "outputs": [],
   "source": [
    "obj.append(5)"
   ]
  },
  {
   "cell_type": "code",
   "execution_count": 15,
   "metadata": {},
   "outputs": [
    {
     "data": {
      "text/plain": [
       "5"
      ]
     },
     "execution_count": 15,
     "metadata": {},
     "output_type": "execute_result"
    }
   ],
   "source": [
    "obj.len_array()"
   ]
  },
  {
   "cell_type": "code",
   "execution_count": 16,
   "metadata": {},
   "outputs": [
    {
     "name": "stdout",
     "output_type": "stream",
     "text": [
      "1 2 3 4 5 "
     ]
    }
   ],
   "source": [
    "obj.print_array()"
   ]
  },
  {
   "cell_type": "code",
   "execution_count": 17,
   "metadata": {},
   "outputs": [],
   "source": [
    "obj.append(6)"
   ]
  },
  {
   "cell_type": "code",
   "execution_count": 19,
   "metadata": {},
   "outputs": [
    {
     "name": "stdout",
     "output_type": "stream",
     "text": [
      "1 2 3 4 5 6 "
     ]
    }
   ],
   "source": [
    "obj.print_array()"
   ]
  },
  {
   "cell_type": "code",
   "execution_count": 20,
   "metadata": {},
   "outputs": [
    {
     "data": {
      "text/plain": [
       "6"
      ]
     },
     "execution_count": 20,
     "metadata": {},
     "output_type": "execute_result"
    }
   ],
   "source": [
    "obj.getitem(5)"
   ]
  }
 ],
 "metadata": {
  "kernelspec": {
   "display_name": "Python 3",
   "language": "python",
   "name": "python3"
  },
  "language_info": {
   "codemirror_mode": {
    "name": "ipython",
    "version": 3
   },
   "file_extension": ".py",
   "mimetype": "text/x-python",
   "name": "python",
   "nbconvert_exporter": "python",
   "pygments_lexer": "ipython3",
   "version": "3.7.6"
  }
 },
 "nbformat": 4,
 "nbformat_minor": 4
}
